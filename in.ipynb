{
 "cells": [
  {
   "cell_type": "code",
   "execution_count": 2,
   "id": "ce4f23b1-53a4-40ef-a2bf-1d38ae319415",
   "metadata": {},
   "outputs": [],
   "source": [
    "from tkinter import *\n",
    "import datetime\n",
    "import time\n",
    "import winsound\n"
   ]
  },
  {
   "cell_type": "code",
   "execution_count": 2,
   "id": "eb4e401c",
   "metadata": {},
   "outputs": [],
   "source": [
    "from tkinter import *\n",
    "import datetime\n",
    "import time\n",
    "import winsound\n"
   ]
  },
  {
   "cell_type": "code",
   "execution_count": 3,
   "id": "ad1a53ca-514f-4d9a-8148-93010a09d769",
   "metadata": {},
   "outputs": [],
   "source": [
    "def alarm(set_alarm_timer):\n",
    "    while True:\n",
    "        time.sleep(1)\n",
    "        current_time=datetime.datetime.now()\n",
    "        now=current_time.strftime(\"%H :%M :%S\")\n",
    "        date =current_time.strftime(\"%d/%m/%Y\")\n",
    "        print(\"The set Date is :\",date)\n",
    "        print(now)\n",
    "        if now ==set_alarm_timer:\n",
    "            print(\"time to wake up\")\n",
    "            \n",
    "        winsound.PlaySound(\"sound.wav\",winsound.SND_ASYNC)\n",
    "        break\n",
    "    "
   ]
  },
  {
   "cell_type": "code",
   "execution_count": 4,
   "id": "4e5d9a7a-64df-485f-a1cd-bae9307e09ca",
   "metadata": {},
   "outputs": [],
   "source": [
    "def actual_time():\n",
    "    set_alarm_timer=f\"{hour.get()}:{min.get()}:{sec.get()}\"\n",
    "    alarm(set_alarm_timer)\n"
   ]
  },
  {
   "cell_type": "code",
   "execution_count": null,
   "id": "e02d934b-0fb5-46ee-af52-30ce06ae68ac",
   "metadata": {},
   "outputs": [],
   "source": [
    "clock = Tk()\n",
    "\n",
    "clock.title(\"DataFlair Alarm Clock\")\n",
    "clock.geometry(\"400x200\")\n",
    "time_format=Label(clock, text= \"Enter time in 24 hour format!\", fg=\"red\",bg=\"black\",font=\"Arial\").place(x=60,y=120)\n",
    "addTime = Label(clock,text = \"Hour  Min   Sec\",font=60).place(x = 110)\n",
    "setYourAlarm = Label(clock,text = \"When to wake you up\",fg=\"blue\",relief = \"solid\",font=(\"Helevetica\",7,\"bold\")).place(x=0, y=29)\n",
    "\n",
    "# The Variables we require to set the alarm(initialization):\n",
    "hour = StringVar()\n",
    "min = StringVar()\n",
    "sec = StringVar()\n",
    "\n",
    "#Time required to set the alarm clock:\n",
    "hourTime= Entry(clock,textvariable = hour,bg = \"pink\",width = 15).place(x=110,y=30)\n",
    "minTime= Entry(clock,textvariable = min,bg = \"pink\",width = 15).place(x=150,y=30)\n",
    "secTime = Entry(clock,textvariable = sec,bg = \"pink\",width = 15).place(x=200,y=30)\n",
    "\n",
    "#To take the time input by user:\n",
    "submit = Button(clock,text = \"Set Alarm\",fg=\"red\",width = 10,command = actual_time).place(x =110,y=70)\n",
    "\n",
    "clock.mainloop()\n",
    "#Execution of the window."
   ]
  },
  {
   "cell_type": "code",
   "execution_count": null,
   "id": "2f003cf8-a443-43e2-ad03-7f8765ef0835",
   "metadata": {},
   "outputs": [],
   "source": []
  }
 ],
 "metadata": {
  "kernelspec": {
   "display_name": "Python 3 (ipykernel)",
   "language": "python",
   "name": "python3"
  },
  "language_info": {
   "codemirror_mode": {
    "name": "ipython",
    "version": 3
   },
   "file_extension": ".py",
   "mimetype": "text/x-python",
   "name": "python",
   "nbconvert_exporter": "python",
   "pygments_lexer": "ipython3",
   "version": "3.10.5"
  }
 },
 "nbformat": 4,
 "nbformat_minor": 5
}
